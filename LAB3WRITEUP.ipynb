{
 "cells": [
  {
   "cell_type": "markdown",
   "metadata": {},
   "source": [
    "The Entity Relationship diagram has numerous features that we will contribute to the efficiency and usefulness of the database. In this example, we've chosen to create nine tables that are related in numerous ways. \n",
    "\n",
    "The Food Inventory and Food Item tables are correlated by inventory ID. The inventory_ID has several categories to adequately describe the same product--such as name, make, price, aisle number, and more--while the serial number differentiates different units of the same product. For example, if the pet shop has 3 bags of Purina's Best Choice Wet dog food in aisle 3 each costing $15 a bag, they will all have the same inventory_ID but different serial numbers. This is why the inventory_ID:serialNum relationship is 1 to many or 1:M. \n",
    "\n",
    "Next, we have the Food Purchases table which has the primary key transactionNumF, or transaction number. It identifies the details of the transaction including what was bought, who bought it, and the final sale that was made.  The relationship of food items to food purchases is many to one.\n",
    "\n",
    "The key we use to keep track of who is buying what in our database is the customer ID, cus_ID.  The cus_ID also holds information about the \"who\" of the customer--such as name, email, phone number, and whether or not they are in the shop's loyalty program. The relationship between customer and food purchases is one to many. The Pet and Fish Purchases table is similar to the Food Purchases table, but for the animals themselves.\n",
    "\n",
    "Due to this similarity, the Pet and Fish Purchases table has many tables with similar relationships. Such as inventory_ID tables for each the fish and the pets. Alongside Inventory tables for the fish and the pets, which will give the same type of fish and pets their own serial number in addition to the inventory ID that the fish and pets of the exact same type and price have.\n",
    "\n"
   ]
  },
  {
   "cell_type": "markdown",
   "metadata": {},
   "source": [
    "<img style=\"width:480px;max-width:100%;\" src=\"https://github.com/dejaworkman/IST210/blob/master/Untitled%20Diagram%20(1).png?raw=true\" alt=\"Drawing\" title=\"Diagram\">\n"
   ]
  },
  {
   "cell_type": "code",
   "execution_count": null,
   "metadata": {},
   "outputs": [],
   "source": []
  }
 ],
 "metadata": {
  "kernelspec": {
   "display_name": "Python 3",
   "language": "python",
   "name": "python3"
  },
  "language_info": {
   "codemirror_mode": {
    "name": "ipython",
    "version": 3
   },
   "file_extension": ".py",
   "mimetype": "text/x-python",
   "name": "python",
   "nbconvert_exporter": "python",
   "pygments_lexer": "ipython3",
   "version": "3.7.3"
  }
 },
 "nbformat": 4,
 "nbformat_minor": 2
}
