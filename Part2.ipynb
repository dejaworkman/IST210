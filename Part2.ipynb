{
  "nbformat": 4,
  "nbformat_minor": 0,
  "metadata": {
    "colab": {
      "name": "Part2",
      "provenance": [],
      "collapsed_sections": []
    },
    "kernelspec": {
      "name": "python3",
      "display_name": "Python 3"
    }
  },
  "cells": [
    {
      "cell_type": "markdown",
      "metadata": {
        "id": "0oWNpYA9jYft",
        "colab_type": "text"
      },
      "source": [
        "Our project had our three ideas of a Car Dealership, Airport, and the Hub Cafeteria. They all are places that use viable and important data. Each idea and it's tables were thought out precisely to see which are the most important as well as which could give us the most data. Granted, it’s hard to work with certain things like an airport and car dealership to get accurate and actual data results. The hub was a bit more easier to work with as it’s familiar territory to all of us. All of our ideas are pretty similar but they’re also different in a lot of ways of course. But they share a lot of similarities in the attributes chosen for each one. For example, the Car Dealership and the Airport have the “vehicle details” and the “flights” tables are similar in content as they both share specific details about the said vehicle and flight like their numbers, their history, where they could possibly be going and so forth. Then the Airport and the Hub have similarities like focusing a table on their staff. For things like an Airport and a college cafeteria, the staff play a huge part in making sure that everything is running smoothly, there are no problems, and most of all everyone is comfortable. For their table they shared things like the employee number, full name, location at job, and how many hours were worked. The Hub and the Car Dealership shared a similarity such as sales. They both are places that have things to sell so of course that’s something you want to keep track of. Even though we were keeping track of sales for both they were actually different reasons. For the Hub the sales included the psu ID for the student who had bought the item, the barcode for the item they buy, the store they purchased it from, from inside the hub and the item’s weight. Now for the car dealership it was more final sale price for the vehicle, buyer sale and date, and what specific vehicles have been sold and to whom. Besides similarities, some had their share of key constraints such as in the Car Dealership, our vehicle location had some constraints on it. We had to think creatively to explain thoroughly what our idea was for that table as it’s not something we can actually do. We had primary keys as well where in the Airport, our passengers were our primary key for our flights table. There was a lot to go by with our three ideas and our tables for each. There was a lot of similarities and differences, different keys and attributes, and overall just a lot of information. Gathering and sometimes making up the data was hard  But nonetheless, successful.  \n",
        "\n",
        "\n"
      ]
    }
  ]
}