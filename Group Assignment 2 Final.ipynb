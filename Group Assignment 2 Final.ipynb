{
 "cells": [
  {
   "cell_type": "markdown",
   "metadata": {},
   "source": [
    "For our group assignment we decided to design our ER diagram for our Car Dealership in a way that is easy to read and flows accordingly with our entities and their attributes. Out of all of our ideas from the first assignment we thought our Car Dealership one was our strongest so we decided to go with that. Of course we knew that it wasn’t 100% perfect so we knew we had to make some changes. We knew we needed them to connect and make sense so we decided to go back to our project, look at some mistakes made and change some of our entities for the better and go with that. From there we decided on Vehicle, Unit, Sale, Location, and Customer. We felt like these entities best fit a diagram for a Car Dealership. Connecting our Vehicle and Location to our Unit, which shares attributes of vehicle number and lot location, it then connects all three to Sale, which is basically like an outcome of all 3. Then, Customer isn’t connected to anything else but Sale, as to have a sale you need a customer. Our group felt like this ER diagram was the best as improvements were made and we felt more comfortable. It still may not be 100% as things can always be improved but it is our best course of action"
   ]
  },
  {
   "cell_type": "markdown",
   "metadata": {},
   "source": [
    "<img style=\"width:480px;max-width:100%;\" src=\"https://github.com/dejaworkman/IST210/blob/master/Group%20Assignment%202.png?raw=true\" alt=\"Drawing\" title=\"Diagram\">"
   ]
  },
  {
   "cell_type": "code",
   "execution_count": null,
   "metadata": {},
   "outputs": [],
   "source": []
  }
 ],
 "metadata": {
  "kernelspec": {
   "display_name": "Python 3",
   "language": "python",
   "name": "python3"
  },
  "language_info": {
   "codemirror_mode": {
    "name": "ipython",
    "version": 3
   },
   "file_extension": ".py",
   "mimetype": "text/x-python",
   "name": "python",
   "nbconvert_exporter": "python",
   "pygments_lexer": "ipython3",
   "version": "3.7.3"
  }
 },
 "nbformat": 4,
 "nbformat_minor": 2
}
